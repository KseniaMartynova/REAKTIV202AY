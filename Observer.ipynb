{
  "metadata": {
    "kernelspec": {
      "name": "python",
      "display_name": "Python (Pyodide)",
      "language": "python"
    },
    "language_info": {
      "codemirror_mode": {
        "name": "python",
        "version": 3
      },
      "file_extension": ".py",
      "mimetype": "text/x-python",
      "name": "python",
      "nbconvert_exporter": "python",
      "pygments_lexer": "ipython3",
      "version": "3.8"
    }
  },
  "nbformat_minor": 4,
  "nbformat": 4,
  "cells": [
    {
      "cell_type": "code",
      "source": "import random\n\nclass WeatherStation:\n    def __init__(self):\n        self.observers = []\n\n    def register_observer(self, observer):\n        \"\"\"\n        Registers an observer to receive weather updates.\n        \"\"\"\n        self.observers.append(observer)\n\n    def notify_observers(self, weather_data):\n        \"\"\"\n        Notifies all registered observers with the latest weather data.\n        \"\"\"\n        for observer in self.observers:\n            observer.update(weather_data)\n\n    def remove_observer(self, observer):\n        \"\"\"\n        Removes an observer from the list of registered observers.\n        \"\"\"\n        self.observers.remove(observer)\n\n\nclass WeatherDisplay:\n    def __init__(self, display_name):\n        self.display_name = display_name\n\n    def update(self, weather_data):\n        \"\"\"\n        Updates the display with the latest weather data.\n        \"\"\"\n        print(f\"{self.display_name} says: it is {weather_data['description']}, there is {weather_data['temperature']} degrees Celsius, humidity: {weather_data['humidity']}\")\n\n# Generate random weather data\ndef generate_random_weather_data():\n    temperature = random.randint(0, 40)  # Random temperature in Celsius\n    descriptions = [\"sunny\", \"cloudy\", \"rainy\", \"stormy\", \"foggy\"]\n    description = random.choice(descriptions)  # Random weather description\n    humidity = random.randint(30, 90)  # Random humidity percentage\n\n    return {\n        'temperature': temperature,\n        'description': description,\n        'humidity': humidity,\n    }",
      "metadata": {
        "trusted": true
      },
      "outputs": [],
      "execution_count": 1
    },
    {
      "cell_type": "code",
      "source": "# Usage\ndef main():\n    weather_data = generate_random_weather_data()\n    station = WeatherStation()\n\n    # Create two displays\n    display1 = WeatherDisplay(\"Display 1\")\n    display2 = WeatherDisplay(\"Display 2\")\n\n    # Register the displays as observers\n    station.register_observer(display1)\n    station.register_observer(display2)\n\n    # When the weather changes\n    station.notify_observers(weather_data)\n\n\nif __name__ == \"__main__\":\n    main()",
      "metadata": {
        "trusted": true
      },
      "outputs": [
        {
          "name": "stdout",
          "text": "Display 1 says: it is rainy, there is 4 degrees Celsius, humidity: 71\nDisplay 2 says: it is rainy, there is 4 degrees Celsius, humidity: 71\n",
          "output_type": "stream"
        }
      ],
      "execution_count": 2
    },
    {
      "cell_type": "code",
      "source": "",
      "metadata": {
        "trusted": true
      },
      "outputs": [],
      "execution_count": null
    },
    {
      "cell_type": "code",
      "source": "",
      "metadata": {
        "trusted": true
      },
      "outputs": [],
      "execution_count": null
    },
    {
      "cell_type": "code",
      "source": "",
      "metadata": {
        "trusted": true
      },
      "outputs": [],
      "execution_count": null
    },
    {
      "cell_type": "code",
      "source": "",
      "metadata": {
        "trusted": true
      },
      "outputs": [],
      "execution_count": null
    },
    {
      "cell_type": "code",
      "source": "",
      "metadata": {
        "trusted": true
      },
      "outputs": [],
      "execution_count": null
    },
    {
      "cell_type": "code",
      "source": "",
      "metadata": {
        "trusted": true
      },
      "outputs": [],
      "execution_count": null
    },
    {
      "cell_type": "code",
      "source": "",
      "metadata": {
        "trusted": true
      },
      "outputs": [],
      "execution_count": null
    },
    {
      "cell_type": "code",
      "source": "",
      "metadata": {
        "trusted": true
      },
      "outputs": [],
      "execution_count": null
    },
    {
      "cell_type": "code",
      "source": "",
      "metadata": {
        "trusted": true
      },
      "outputs": [],
      "execution_count": null
    },
    {
      "cell_type": "code",
      "source": "",
      "metadata": {
        "trusted": true
      },
      "outputs": [],
      "execution_count": null
    },
    {
      "cell_type": "code",
      "source": "",
      "metadata": {
        "trusted": true
      },
      "outputs": [],
      "execution_count": null
    },
    {
      "cell_type": "code",
      "source": "",
      "metadata": {
        "trusted": true
      },
      "outputs": [],
      "execution_count": null
    },
    {
      "cell_type": "code",
      "source": "",
      "metadata": {
        "trusted": true
      },
      "outputs": [],
      "execution_count": null
    },
    {
      "cell_type": "code",
      "source": "",
      "metadata": {
        "trusted": true
      },
      "outputs": [],
      "execution_count": null
    },
    {
      "cell_type": "code",
      "source": "",
      "metadata": {
        "trusted": true
      },
      "outputs": [],
      "execution_count": null
    },
    {
      "cell_type": "code",
      "source": "import random\n\n# Generate random weather data\ndef generate_random_weather_data():\n    temperature = random.randint(0, 40)  # Random temperature in Celsius\n    descriptions = [\"sunny\", \"cloudy\", \"rainy\", \"stormy\", \"foggy\"]\n    description = random.choice(descriptions)  # Random weather description\n    humidity = random.randint(30, 90)  # Random humidity percentage\n\n    return {\n        'temperature': temperature,\n        'description': description,\n        'humidity': humidity,\n    }\n\n# Create a dictionary with 5 entries\nweather_dict = {}\nfor _ in range(5):\n    date = f\"2024-05-{random.randint(1, 31)}\"  # Random date (May 2024)\n    weather_dict[date] = generate_random_weather_data()\n\n# Print the generated weather data\nfor date, data in weather_dict.items():\n    print(f\"{date}: {data}\")\n\n# Example usage:\n# 2024-05-01: {'temperature': 28, 'description': 'sunny', 'humidity': 65}\n# 2024-05-02: {'temperature': 15, 'description': 'cloudy', 'humidity': 42}\n# ...\n",
      "metadata": {
        "trusted": true
      },
      "outputs": [
        {
          "name": "stdout",
          "text": "2024-05-8: {'temperature': 6, 'description': 'sunny', 'humidity': 76}\n2024-05-29: {'temperature': 2, 'description': 'stormy', 'humidity': 41}\n2024-05-31: {'temperature': 11, 'description': 'foggy', 'humidity': 79}\n2024-05-7: {'temperature': 34, 'description': 'sunny', 'humidity': 80}\n2024-05-30: {'temperature': 1, 'description': 'stormy', 'humidity': 42}\n",
          "output_type": "stream"
        }
      ],
      "execution_count": 11
    },
    {
      "cell_type": "code",
      "source": "",
      "metadata": {
        "trusted": true
      },
      "outputs": [],
      "execution_count": null
    }
  ]
}