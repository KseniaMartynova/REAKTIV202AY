{
  "cells": [
    {
      "cell_type": "markdown",
      "metadata": {},
      "source": [
        "# Пример для **Observer Pattern**\n",
        "**WeatherStation уведомляет несколько WeatherDisplay при каждом изменении погоды:**"
      ]
    },
    {
      "cell_type": "code",
      "execution_count": 1,
      "metadata": {
        "trusted": true
      },
      "outputs": [],
      "source": [
        "import random\n",
        "\n",
        "class WeatherStation:\n",
        "    def __init__(self):\n",
        "        self.observers = []\n",
        "\n",
        "    def register_observer(self, observer):\n",
        "        #Регистрирует observer для получения обновлений погоды.\n",
        "        self.observers.append(observer)\n",
        "\n",
        "    def notify_observers(self, weather_data):\n",
        "        #Уведомляет всех зарегистрированных observers о последних погодных данных.\n",
        "        for observer in self.observers:\n",
        "            observer.update(weather_data)\n",
        "\n",
        "    def remove_observer(self, observer):\n",
        "        #Удаляет observer из списка зарегистрированных наблюдателей.\n",
        "        self.observers.remove(observer)\n",
        "\n",
        "\n",
        "class WeatherDisplay:\n",
        "    def __init__(self, display_name):\n",
        "        self.display_name = display_name\n",
        "\n",
        "    def update(self, weather_data):\n",
        "        #Обновляет отображение последних погодных данных.\n",
        "        print(f\"{self.display_name} says: it is {weather_data['description']}, there is {weather_data['temperature']} degrees Celsius, humidity: {weather_data['humidity']}\")\n",
        "\n",
        "# Генерирует случайные погодные данные\n",
        "def generate_random_weather_data():\n",
        "    temperature = random.randint(0, 40)  # Произвольная температура в градусах Цельсия\n",
        "    descriptions = [\"sunny\", \"cloudy\", \"rainy\", \"stormy\", \"foggy\"]\n",
        "    description = random.choice(descriptions)  # Описание случайной погоды\n",
        "    humidity = random.randint(30, 90)  # Случайный процент влажности\n",
        "\n",
        "    return {\n",
        "        'temperature': temperature,\n",
        "        'description': description,\n",
        "        'humidity': humidity,\n",
        "    }"
      ]
    },
    {
      "cell_type": "code",
      "execution_count": 2,
      "metadata": {
        "trusted": true
      },
      "outputs": [
        {
          "name": "stdout",
          "output_type": "stream",
          "text": [
            "Display 1 says: it is rainy, there is 4 degrees Celsius, humidity: 71\n",
            "Display 2 says: it is rainy, there is 4 degrees Celsius, humidity: 71\n"
          ]
        }
      ],
      "source": [
        "# Использование\n",
        "def main():\n",
        "    weather_data = generate_random_weather_data()\n",
        "    station = WeatherStation()\n",
        "\n",
        "    # Создание двух дисплеев\n",
        "    display1 = WeatherDisplay(\"Display 1\")\n",
        "    display2 = WeatherDisplay(\"Display 2\")\n",
        "\n",
        "    #Зарегистрация дисплев в качестве наблюдателей\n",
        "    station.register_observer(display1)\n",
        "    station.register_observer(display2)\n",
        "\n",
        "    # Когда погода меняется\n",
        "    station.notify_observers(weather_data)\n",
        "\n",
        "\n",
        "if __name__ == \"__main__\":\n",
        "    main()"
      ]
    },
    {
      "cell_type": "code",
      "execution_count": null,
      "metadata": {
        "trusted": true
      },
      "outputs": [],
      "source": []
    },
    {
      "cell_type": "code",
      "execution_count": null,
      "metadata": {
        "trusted": true
      },
      "outputs": [],
      "source": []
    },
    {
      "cell_type": "code",
      "execution_count": null,
      "metadata": {
        "trusted": true
      },
      "outputs": [],
      "source": []
    },
    {
      "cell_type": "code",
      "execution_count": null,
      "metadata": {
        "trusted": true
      },
      "outputs": [],
      "source": []
    },
    {
      "cell_type": "code",
      "execution_count": null,
      "metadata": {
        "trusted": true
      },
      "outputs": [],
      "source": []
    },
    {
      "cell_type": "code",
      "execution_count": null,
      "metadata": {
        "trusted": true
      },
      "outputs": [],
      "source": []
    },
    {
      "cell_type": "code",
      "execution_count": null,
      "metadata": {
        "trusted": true
      },
      "outputs": [],
      "source": []
    },
    {
      "cell_type": "code",
      "execution_count": null,
      "metadata": {
        "trusted": true
      },
      "outputs": [],
      "source": []
    },
    {
      "cell_type": "code",
      "execution_count": null,
      "metadata": {
        "trusted": true
      },
      "outputs": [],
      "source": []
    },
    {
      "cell_type": "code",
      "execution_count": null,
      "metadata": {
        "trusted": true
      },
      "outputs": [],
      "source": []
    },
    {
      "cell_type": "code",
      "execution_count": null,
      "metadata": {
        "trusted": true
      },
      "outputs": [],
      "source": []
    },
    {
      "cell_type": "code",
      "execution_count": null,
      "metadata": {
        "trusted": true
      },
      "outputs": [],
      "source": []
    },
    {
      "cell_type": "code",
      "execution_count": null,
      "metadata": {
        "trusted": true
      },
      "outputs": [],
      "source": []
    },
    {
      "cell_type": "code",
      "execution_count": null,
      "metadata": {
        "trusted": true
      },
      "outputs": [],
      "source": []
    },
    {
      "cell_type": "code",
      "execution_count": null,
      "metadata": {
        "trusted": true
      },
      "outputs": [],
      "source": []
    },
    {
      "cell_type": "code",
      "execution_count": 11,
      "metadata": {
        "trusted": true
      },
      "outputs": [
        {
          "name": "stdout",
          "output_type": "stream",
          "text": [
            "2024-05-8: {'temperature': 6, 'description': 'sunny', 'humidity': 76}\n",
            "2024-05-29: {'temperature': 2, 'description': 'stormy', 'humidity': 41}\n",
            "2024-05-31: {'temperature': 11, 'description': 'foggy', 'humidity': 79}\n",
            "2024-05-7: {'temperature': 34, 'description': 'sunny', 'humidity': 80}\n",
            "2024-05-30: {'temperature': 1, 'description': 'stormy', 'humidity': 42}\n"
          ]
        }
      ],
      "source": [
        "import random\n",
        "\n",
        "# Generate random weather data\n",
        "def generate_random_weather_data():\n",
        "    temperature = random.randint(0, 40)  # Random temperature in Celsius\n",
        "    descriptions = [\"sunny\", \"cloudy\", \"rainy\", \"stormy\", \"foggy\"]\n",
        "    description = random.choice(descriptions)  # Random weather description\n",
        "    humidity = random.randint(30, 90)  # Random humidity percentage\n",
        "\n",
        "    return {\n",
        "        'temperature': temperature,\n",
        "        'description': description,\n",
        "        'humidity': humidity,\n",
        "    }\n",
        "\n",
        "# Create a dictionary with 5 entries\n",
        "weather_dict = {}\n",
        "for _ in range(5):\n",
        "    date = f\"2024-05-{random.randint(1, 31)}\"  # Random date (May 2024)\n",
        "    weather_dict[date] = generate_random_weather_data()\n",
        "\n",
        "# Print the generated weather data\n",
        "for date, data in weather_dict.items():\n",
        "    print(f\"{date}: {data}\")\n",
        "\n",
        "# Example usage:\n",
        "# 2024-05-01: {'temperature': 28, 'description': 'sunny', 'humidity': 65}\n",
        "# 2024-05-02: {'temperature': 15, 'description': 'cloudy', 'humidity': 42}\n",
        "# ...\n"
      ]
    },
    {
      "cell_type": "code",
      "execution_count": null,
      "metadata": {
        "trusted": true
      },
      "outputs": [],
      "source": []
    }
  ],
  "metadata": {
    "kernelspec": {
      "display_name": "Python (Pyodide)",
      "language": "python",
      "name": "python"
    },
    "language_info": {
      "codemirror_mode": {
        "name": "python",
        "version": 3
      },
      "file_extension": ".py",
      "mimetype": "text/x-python",
      "name": "python",
      "nbconvert_exporter": "python",
      "pygments_lexer": "ipython3",
      "version": "3.8"
    }
  },
  "nbformat": 4,
  "nbformat_minor": 4
}
